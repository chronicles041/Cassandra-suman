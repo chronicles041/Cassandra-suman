{
 "cells": [
  {
   "cell_type": "markdown",
   "id": "1427e420-8b96-4b54-9b0e-0318beb34602",
   "metadata": {},
   "source": [
    "# AIDI 1002: Machine Learning Programming — Assignment - 2"
   ]
  },
  {
   "cell_type": "markdown",
   "id": "f04b6dd4-c61d-4394-8ac9-b512ff28343e",
   "metadata": {},
   "source": [
    "## 1. Consider this dataset from kaggle. (Download the dataset from following link : https://www.kaggle.com/shrutimechlearn/step-by-step-kmeans-explained-in-detail/data) and answer the following questions "
   ]
  },
  {
   "cell_type": "markdown",
   "id": "d8eba0c3-b570-4bb7-9c47-f0ed2907cca7",
   "metadata": {},
   "source": [
    "### 1.1 Perform k-means clustering over this dataset using Manhattan distance as the distance-measure. (10 Points)"
   ]
  },
  {
   "cell_type": "code",
   "execution_count": 71,
   "id": "41e14f1d-c168-47c0-8363-952100392307",
   "metadata": {},
   "outputs": [
    {
     "name": "stdout",
     "output_type": "stream",
     "text": [
      "Requirement already satisfied: scikit-learn in ./lib/python3.12/site-packages (1.5.1)\n",
      "Requirement already satisfied: numpy>=1.19.5 in ./lib/python3.12/site-packages (from scikit-learn) (2.0.0)\n",
      "Requirement already satisfied: scipy>=1.6.0 in ./lib/python3.12/site-packages (from scikit-learn) (1.14.0)\n",
      "Requirement already satisfied: joblib>=1.2.0 in ./lib/python3.12/site-packages (from scikit-learn) (1.4.2)\n",
      "Requirement already satisfied: threadpoolctl>=3.1.0 in ./lib/python3.12/site-packages (from scikit-learn) (3.5.0)\n",
      "\n",
      "\u001b[1m[\u001b[0m\u001b[34;49mnotice\u001b[0m\u001b[1;39;49m]\u001b[0m\u001b[39;49m A new release of pip is available: \u001b[0m\u001b[31;49m24.0\u001b[0m\u001b[39;49m -> \u001b[0m\u001b[32;49m24.1.2\u001b[0m\n",
      "\u001b[1m[\u001b[0m\u001b[34;49mnotice\u001b[0m\u001b[1;39;49m]\u001b[0m\u001b[39;49m To update, run: \u001b[0m\u001b[32;49mpip install --upgrade pip\u001b[0m\n"
     ]
    }
   ],
   "source": [
    "!pip install scikit-learn\n"
   ]
  },
  {
   "cell_type": "code",
   "execution_count": 72,
   "id": "d251dc52-3d22-4177-8ad6-344c04b6e0b4",
   "metadata": {},
   "outputs": [
    {
     "name": "stdout",
     "output_type": "stream",
     "text": [
      "Requirement already satisfied: matplotlib in ./lib/python3.12/site-packages (3.9.1)\n",
      "Requirement already satisfied: contourpy>=1.0.1 in ./lib/python3.12/site-packages (from matplotlib) (1.2.1)\n",
      "Requirement already satisfied: cycler>=0.10 in ./lib/python3.12/site-packages (from matplotlib) (0.12.1)\n",
      "Requirement already satisfied: fonttools>=4.22.0 in ./lib/python3.12/site-packages (from matplotlib) (4.53.1)\n",
      "Requirement already satisfied: kiwisolver>=1.3.1 in ./lib/python3.12/site-packages (from matplotlib) (1.4.5)\n",
      "Requirement already satisfied: numpy>=1.23 in ./lib/python3.12/site-packages (from matplotlib) (2.0.0)\n",
      "Requirement already satisfied: packaging>=20.0 in ./lib/python3.12/site-packages (from matplotlib) (24.1)\n",
      "Requirement already satisfied: pillow>=8 in ./lib/python3.12/site-packages (from matplotlib) (10.4.0)\n",
      "Requirement already satisfied: pyparsing>=2.3.1 in ./lib/python3.12/site-packages (from matplotlib) (3.1.2)\n",
      "Requirement already satisfied: python-dateutil>=2.7 in ./lib/python3.12/site-packages (from matplotlib) (2.9.0.post0)\n",
      "Requirement already satisfied: six>=1.5 in ./lib/python3.12/site-packages (from python-dateutil>=2.7->matplotlib) (1.16.0)\n",
      "\n",
      "\u001b[1m[\u001b[0m\u001b[34;49mnotice\u001b[0m\u001b[1;39;49m]\u001b[0m\u001b[39;49m A new release of pip is available: \u001b[0m\u001b[31;49m24.0\u001b[0m\u001b[39;49m -> \u001b[0m\u001b[32;49m24.1.2\u001b[0m\n",
      "\u001b[1m[\u001b[0m\u001b[34;49mnotice\u001b[0m\u001b[1;39;49m]\u001b[0m\u001b[39;49m To update, run: \u001b[0m\u001b[32;49mpip install --upgrade pip\u001b[0m\n"
     ]
    }
   ],
   "source": [
    "!pip install matplotlib"
   ]
  },
  {
   "cell_type": "code",
   "execution_count": 73,
   "id": "eaa1d48c-8eb7-4518-8ec0-8b703e01ae24",
   "metadata": {},
   "outputs": [
    {
     "name": "stdout",
     "output_type": "stream",
     "text": [
      "Requirement already satisfied: tabulate in ./lib/python3.12/site-packages (0.9.0)\n",
      "\n",
      "\u001b[1m[\u001b[0m\u001b[34;49mnotice\u001b[0m\u001b[1;39;49m]\u001b[0m\u001b[39;49m A new release of pip is available: \u001b[0m\u001b[31;49m24.0\u001b[0m\u001b[39;49m -> \u001b[0m\u001b[32;49m24.1.2\u001b[0m\n",
      "\u001b[1m[\u001b[0m\u001b[34;49mnotice\u001b[0m\u001b[1;39;49m]\u001b[0m\u001b[39;49m To update, run: \u001b[0m\u001b[32;49mpip install --upgrade pip\u001b[0m\n"
     ]
    }
   ],
   "source": [
    "!pip install tabulate"
   ]
  },
  {
   "cell_type": "code",
   "execution_count": 74,
   "id": "fc06bab4-a06f-492b-992b-0d304436fbb1",
   "metadata": {},
   "outputs": [
    {
     "name": "stdout",
     "output_type": "stream",
     "text": [
      "Requirement already satisfied: seaborn in ./lib/python3.12/site-packages (0.13.2)\n",
      "Requirement already satisfied: numpy!=1.24.0,>=1.20 in ./lib/python3.12/site-packages (from seaborn) (2.0.0)\n",
      "Requirement already satisfied: pandas>=1.2 in ./lib/python3.12/site-packages (from seaborn) (2.2.2)\n",
      "Requirement already satisfied: matplotlib!=3.6.1,>=3.4 in ./lib/python3.12/site-packages (from seaborn) (3.9.1)\n",
      "Requirement already satisfied: contourpy>=1.0.1 in ./lib/python3.12/site-packages (from matplotlib!=3.6.1,>=3.4->seaborn) (1.2.1)\n",
      "Requirement already satisfied: cycler>=0.10 in ./lib/python3.12/site-packages (from matplotlib!=3.6.1,>=3.4->seaborn) (0.12.1)\n",
      "Requirement already satisfied: fonttools>=4.22.0 in ./lib/python3.12/site-packages (from matplotlib!=3.6.1,>=3.4->seaborn) (4.53.1)\n",
      "Requirement already satisfied: kiwisolver>=1.3.1 in ./lib/python3.12/site-packages (from matplotlib!=3.6.1,>=3.4->seaborn) (1.4.5)\n",
      "Requirement already satisfied: packaging>=20.0 in ./lib/python3.12/site-packages (from matplotlib!=3.6.1,>=3.4->seaborn) (24.1)\n",
      "Requirement already satisfied: pillow>=8 in ./lib/python3.12/site-packages (from matplotlib!=3.6.1,>=3.4->seaborn) (10.4.0)\n",
      "Requirement already satisfied: pyparsing>=2.3.1 in ./lib/python3.12/site-packages (from matplotlib!=3.6.1,>=3.4->seaborn) (3.1.2)\n",
      "Requirement already satisfied: python-dateutil>=2.7 in ./lib/python3.12/site-packages (from matplotlib!=3.6.1,>=3.4->seaborn) (2.9.0.post0)\n",
      "Requirement already satisfied: pytz>=2020.1 in ./lib/python3.12/site-packages (from pandas>=1.2->seaborn) (2024.1)\n",
      "Requirement already satisfied: tzdata>=2022.7 in ./lib/python3.12/site-packages (from pandas>=1.2->seaborn) (2024.1)\n",
      "Requirement already satisfied: six>=1.5 in ./lib/python3.12/site-packages (from python-dateutil>=2.7->matplotlib!=3.6.1,>=3.4->seaborn) (1.16.0)\n",
      "\n",
      "\u001b[1m[\u001b[0m\u001b[34;49mnotice\u001b[0m\u001b[1;39;49m]\u001b[0m\u001b[39;49m A new release of pip is available: \u001b[0m\u001b[31;49m24.0\u001b[0m\u001b[39;49m -> \u001b[0m\u001b[32;49m24.1.2\u001b[0m\n",
      "\u001b[1m[\u001b[0m\u001b[34;49mnotice\u001b[0m\u001b[1;39;49m]\u001b[0m\u001b[39;49m To update, run: \u001b[0m\u001b[32;49mpip install --upgrade pip\u001b[0m\n",
      "Note: you may need to restart the kernel to use updated packages.\n"
     ]
    }
   ],
   "source": [
    "pip install seaborn"
   ]
  },
  {
   "cell_type": "code",
   "execution_count": 75,
   "id": "a8b0dbbc-5550-4973-882c-22410a4995f8",
   "metadata": {},
   "outputs": [
    {
     "name": "stdout",
     "output_type": "stream",
     "text": [
      "╒════╤══════════════╤═════════╤═══════╤══════════════════════╤══════════════════╕\n",
      "│    │   CustomerID │ Genre   │   Age │   Annual_Income_(k$) │   Spending_Score │\n",
      "╞════╪══════════════╪═════════╪═══════╪══════════════════════╪══════════════════╡\n",
      "│  0 │            1 │ Male    │    19 │                   15 │               39 │\n",
      "├────┼──────────────┼─────────┼───────┼──────────────────────┼──────────────────┤\n",
      "│  1 │            2 │ Male    │    21 │                   15 │               81 │\n",
      "├────┼──────────────┼─────────┼───────┼──────────────────────┼──────────────────┤\n",
      "│  2 │            3 │ Female  │    20 │                   16 │                6 │\n",
      "├────┼──────────────┼─────────┼───────┼──────────────────────┼──────────────────┤\n",
      "│  3 │            4 │ Female  │    23 │                   16 │               77 │\n",
      "├────┼──────────────┼─────────┼───────┼──────────────────────┼──────────────────┤\n",
      "│  4 │            5 │ Female  │    31 │                   17 │               40 │\n",
      "╘════╧══════════════╧═════════╧═══════╧══════════════════════╧══════════════════╛\n",
      "\n",
      "Missing Values Summary:\n",
      "╒════╤════════════════════╤══════════════════╕\n",
      "│    │ Column             │   Missing Values │\n",
      "╞════╪════════════════════╪══════════════════╡\n",
      "│  0 │ CustomerID         │                0 │\n",
      "├────┼────────────────────┼──────────────────┤\n",
      "│  1 │ Genre              │                0 │\n",
      "├────┼────────────────────┼──────────────────┤\n",
      "│  2 │ Age                │                0 │\n",
      "├────┼────────────────────┼──────────────────┤\n",
      "│  3 │ Annual_Income_(k$) │                0 │\n",
      "├────┼────────────────────┼──────────────────┤\n",
      "│  4 │ Spending_Score     │                0 │\n",
      "╘════╧════════════════════╧══════════════════╛\n",
      "╒════╤══════════════╤═════════╤═══════╤══════════════════════╤══════════════════╕\n",
      "│    │   CustomerID │   Genre │   Age │   Annual_Income_(k$) │   Spending_Score │\n",
      "╞════╪══════════════╪═════════╪═══════╪══════════════════════╪══════════════════╡\n",
      "│  0 │            1 │       0 │    19 │                   15 │               39 │\n",
      "├────┼──────────────┼─────────┼───────┼──────────────────────┼──────────────────┤\n",
      "│  1 │            2 │       0 │    21 │                   15 │               81 │\n",
      "├────┼──────────────┼─────────┼───────┼──────────────────────┼──────────────────┤\n",
      "│  2 │            3 │       1 │    20 │                   16 │                6 │\n",
      "├────┼──────────────┼─────────┼───────┼──────────────────────┼──────────────────┤\n",
      "│  3 │            4 │       1 │    23 │                   16 │               77 │\n",
      "├────┼──────────────┼─────────┼───────┼──────────────────────┼──────────────────┤\n",
      "│  4 │            5 │       1 │    31 │                   17 │               40 │\n",
      "╘════╧══════════════╧═════════╧═══════╧══════════════════════╧══════════════════╛\n"
     ]
    }
   ],
   "source": [
    "\n",
    "from tabulate import tabulate\n",
    "\n",
    "# Load the dataset\n",
    "data = pd.read_csv('Mall_Customers.csv')\n",
    "\n",
    "# Print the first few rows (head) using tabulate\n",
    "print(tabulate(data.head(), headers=data.columns, tablefmt=\"fancy_grid\"))\n",
    "\n",
    "# Check for missing values and display using tabulate\n",
    "print(\"\\nMissing Values Summary:\")\n",
    "print(tabulate(data.isnull().sum().to_frame(name=\"Count\").reset_index(), headers=[\"Column\", \"Missing Values\"], tablefmt=\"fancy_grid\"))\n",
    "\n",
    "\n",
    "data['Genre'] = data['Genre'].map({'Male': 0, 'Female': 1})\n",
    "\n",
    "print(tabulate(data.head(), headers=data.columns, tablefmt=\"fancy_grid\"))\n"
   ]
  },
  {
   "cell_type": "code",
   "execution_count": 76,
   "id": "304a7fcf-02fb-494a-a814-3aefe04a57f6",
   "metadata": {},
   "outputs": [],
   "source": [
    "from sklearn.cluster import KMeans\n",
    "from sklearn.metrics import pairwise_distances\n",
    "\n",
    "def manhattan_kmeans(data, n_clusters, random_state):\n",
    "    kmeans = KMeans(n_clusters=n_clusters, random_state=random_state)\n",
    "    kmeans.fit(data)\n",
    "    \n",
    "    centroids = kmeans.cluster_centers_\n",
    "    labels = pairwise_distances(data, centroids, metric='manhattan').argmin(axis=1)\n",
    "    \n",
    "    return centroids, labels\n",
    "\n",
    "n_clusters = 5\n",
    "random_state = 0\n",
    "centroids, labels = manhattan_kmeans(data, n_clusters, random_state)"
   ]
  },
  {
   "cell_type": "markdown",
   "id": "99935121-b409-4bf6-a30c-3df2c8b911be",
   "metadata": {},
   "source": [
    "### 1.2 After performing k-means clustering, extract the groups or clusters and add a separate column in your dataset as ‘Labels’ and fill it with cluster number assigned by k-means algorithm. (5 Points)"
   ]
  },
  {
   "cell_type": "code",
   "execution_count": 77,
   "id": "bb732edc-b1e1-45e4-a4db-f62c13ce8758",
   "metadata": {},
   "outputs": [],
   "source": [
    "data['Labels'] = labels"
   ]
  },
  {
   "cell_type": "markdown",
   "id": "5800a40c-7c19-4d50-a60e-1256e0d449f5",
   "metadata": {},
   "source": [
    "### 1.3 Now, you should be ready with your labeled dataset. Perform standard classification task using logistic regression, decision trees, random forest, and Naive Bayes algorithm. (25 Points)"
   ]
  },
  {
   "cell_type": "code",
   "execution_count": 78,
   "id": "0e5a64c5-2d6f-4999-9770-4a1fd43317c9",
   "metadata": {},
   "outputs": [
    {
     "name": "stdout",
     "output_type": "stream",
     "text": [
      "+---------------------+----------+--------------------+--------+--------------------+\n",
      "|        Model        | Accuracy |     Precision      | Recall |      F1-Score      |\n",
      "+---------------------+----------+--------------------+--------+--------------------+\n",
      "| Logistic Regression |   0.95   | 0.961111111111111  |  0.95  | 0.9495535714285716 |\n",
      "|    Decision Tree    |   1.0    |        1.0         |  1.0   |        1.0         |\n",
      "|    Random Forest    |   1.0    |        1.0         |  1.0   |        1.0         |\n",
      "|     Naive Bayes     |   0.9    | 0.9247727272727271 |  0.9   | 0.897597500538677  |\n",
      "+---------------------+----------+--------------------+--------+--------------------+\n"
     ]
    }
   ],
   "source": [
    "from sklearn.model_selection import train_test_split\n",
    "from sklearn.linear_model import LogisticRegression\n",
    "from sklearn.tree import DecisionTreeClassifier\n",
    "from sklearn.ensemble import RandomForestClassifier\n",
    "from sklearn.naive_bayes import GaussianNB\n",
    "from sklearn.metrics import accuracy_score, classification_report\n",
    "\n",
    "\n",
    "# Split the data into training and testing sets\n",
    "X = data.drop('Labels', axis=1)\n",
    "y = data['Labels']\n",
    "X_train, X_test, y_train, y_test = train_test_split(X, y, test_size=0.2, random_state=0)\n",
    "\n",
    "#  SI’m cale the data\n",
    "scaler = StandardScaler()\n",
    "X_train = scaler.fit_transform(X_train)\n",
    "X_test = scaler.transform(X_test)\n",
    "\n",
    "# Initialize models\n",
    "models = {\n",
    "    \"Logistic Regression\": LogisticRegression(max_iter=1000),\n",
    "    \"Decision Tree\": DecisionTreeClassifier(),\n",
    "    \"Random Forest\": RandomForestClassifier(),\n",
    "    \"Naive Bayes\": GaussianNB()\n",
    "}\n",
    "\n",
    "# Train and evaluate models\n",
    "results = []\n",
    "for name, model in models.items():\n",
    "    model.fit(X_train, y_train)\n",
    "    y_pred = model.predict(X_test)\n",
    "    accuracy = accuracy_score(y_test, y_pred)\n",
    "    report = classification_report(y_test, y_pred, output_dict=True)\n",
    "    precision = report['weighted avg']['precision']\n",
    "    recall = report['weighted avg']['recall']\n",
    "    f1_score = report['weighted avg']['f1-score']\n",
    "    results.append([name, accuracy, precision, recall, f1_score])\n",
    "\n",
    "# Create and print the results table\n",
    "table = tabulate(results, headers=[\"Model\", \"Accuracy\", \"Precision\", \"Recall\", \"F1-Score\"], tablefmt=\"pretty\")\n",
    "print(table)\n"
   ]
  },
  {
   "cell_type": "markdown",
   "id": "538d6a90-08b6-4adf-bf6d-01d373af3887",
   "metadata": {},
   "source": [
    "### 1.4 Compare the performance of these various supervised learning algorithm and comment on the homogeneity of clusters, like is the clusters or groups are making sense or not ? (10 Points)"
   ]
  },
  {
   "cell_type": "markdown",
   "id": "e7f4b78a-5def-4ce2-9f27-bee65f9c5557",
   "metadata": {},
   "source": [
    "### Performance Comparison:\n",
    "\n",
    "1. **Logistic Regression:**\n",
    "   - **Accuracy:** 0.95\n",
    "   - **Precision:** 0.9611\n",
    "   - **Recall:** 0.95\n",
    "   - **F1-Score:** 0.9496\n",
    "   - **Summary:** High accuracy and balanced precision and recall. Reliable for predicting classes with good overall performance.\n",
    "\n",
    "2. **Decision Tree:**\n",
    "   - **Accuracy:** 0.975\n",
    "   - **Precision:** 0.9781\n",
    "   - **Recall:** 0.975\n",
    "   - **F1-Score:** 0.9752\n",
    "   - **Summary:** Slightly better than Logistic Regression in all metrics. Effectively handles false positives and negatives.\n",
    "\n",
    "3. **Random Forest:**\n",
    "   - **Accuracy:** 1.0\n",
    "   - **Precision:** 1.0\n",
    "   - **Recall:** 1.0\n",
    "   - **F1-Score:** 1.0\n",
    "   - **Summary:** Perfect scores indicate potentially overfitting, suggesting it memorizes the training data rather than generalizing.\n",
    "\n",
    "4. **Naive Bayes:**\n",
    "   - **Accuracy:** 0.9\n",
    "   - **Precision:** 0.9248\n",
    "   - **Recall:** 0.9\n",
    "   - **F1-Score:** 0.8976\n",
    "   - **Summary:** Lowest performance among the models. Good precision but lower recall and F1-Score, indicating it misses some positive instances.\n",
    "\n",
    "### Homogeneity of Clusters:\n",
    "\n",
    "- **Random Forest's Perfect Scores:** Suggesting overfitting, meaning it might not perform well on new data. Clusters might be too specific to the training set.\n",
    "- **Naive Bayes' Lower Performance:** Indicates that the data has complex relationships that the model fails to capture, suggesting meaningful dependencies in the data.\n",
    "- **Logistic Regression and Decision Tree:** Strong and balanced performance indicates well-separated and meaningful clusters.\n",
    "\n",
    "### Conclusion:\n",
    "\n",
    "- **Logistic Regression and Decision Tree:** Good balance of performance and generalization, suggesting they capture meaningful patterns in the data.\n",
    "- **Random Forest:** Perfect scores require caution; it may overfit and not generalize well.\n",
    "- **Naive Bayes:** Lower performance suggests it struggles with feature dependencies, needing more advanced feature engineering or different modeling techniques.\n",
    "\n",
    "Overall, I personally think  that Logistic Regression and Decision Tree models are reliable and likely to perform well on new data, while Random Forest and Naive Bayes need careful consideration regarding overfitting and feature dependencies."
   ]
  },
  {
   "cell_type": "markdown",
   "id": "0bb7060d-3c2e-4493-a2a5-d60d1ace66d6",
   "metadata": {},
   "source": [
    "## 2. Consider the breast_cancer dataset given in the sklearn library and answer the following questions."
   ]
  },
  {
   "cell_type": "markdown",
   "id": "5ef5fa4a-2044-47f6-b9ec-a0e91946c6cb",
   "metadata": {},
   "source": [
    "### 2.1 Import the breast_cancer dataset from sklearn.datasets library. (5 Points)"
   ]
  },
  {
   "cell_type": "code",
   "execution_count": 79,
   "id": "a8ca43f4-8d23-4997-99fb-8a30aeff1a39",
   "metadata": {},
   "outputs": [],
   "source": [
    "from sklearn.datasets import load_breast_cancer\n",
    "\n",
    "breast_cancer = load_breast_cancer()\n",
    "X = breast_cancer.data\n",
    "y = breast_cancer.target\n"
   ]
  },
  {
   "cell_type": "markdown",
   "id": "14ec1d4c-d06e-46e6-8c6f-02e75110f0eb",
   "metadata": {},
   "source": [
    "### 2.2 Perform PCA (2 components) and LDA (1 components) over the dataset. (20 Points)"
   ]
  },
  {
   "cell_type": "code",
   "execution_count": 80,
   "id": "9a4dedd9-657a-4ec5-ac1b-ed28785b036a",
   "metadata": {},
   "outputs": [],
   "source": [
    "from sklearn.decomposition import PCA\n",
    "from sklearn.discriminant_analysis import LinearDiscriminantAnalysis as LDA\n",
    "\n",
    "# Performing PCA with 2 components\n",
    "pca = PCA(n_components=2)\n",
    "X_pca = pca.fit_transform(X)\n",
    "\n",
    "# Performing LDA with 1 component\n",
    "lda = LDA(n_components=1)\n",
    "X_lda = lda.fit_transform(X, y)\n"
   ]
  },
  {
   "cell_type": "markdown",
   "id": "12ae1400-ab92-4a99-8ca3-d7c1a9b56854",
   "metadata": {},
   "source": [
    "### 2.3 Visualise the components and see if its able to segregate the class label in breast_cancer dataset. (10 Points)"
   ]
  },
  {
   "cell_type": "code",
   "execution_count": 81,
   "id": "5ca8d7c0-0970-4afc-bd48-f9be5232cb7f",
   "metadata": {},
   "outputs": [
    {
     "data": {
      "image/png": "[encoded data removed]",
      "text/plain": [
       "<Figure size 640x480 with 1 Axes>"
      ]
     },
     "metadata": {},
     "output_type": "display_data"
    },
    {
     "data": {
      "image/png": "[encoded data removed]",
      "text/plain": [
       "<Figure size 640x480 with 1 Axes>"
      ]
     },
     "metadata": {},
     "output_type": "display_data"
    }
   ],
   "source": [
    "import matplotlib.pyplot as plt\n",
    "\n",
    "plt.scatter(X_pca[:, 0], X_pca[:, 1], c=y, cmap='viridis')\n",
    "plt.xlabel('PCA Component 1')\n",
    "plt.ylabel('PCA Component 2')\n",
    "plt.title('PCA on Breast Cancer Dataset')\n",
    "plt.show()\n",
    "\n",
    "\n",
    "\n",
    "plt.scatter(X_lda, [0] * len(X_lda), c=y, cmap='viridis')\n",
    "plt.xlabel('LDA Component 1')\n",
    "plt.title('LDA on Breast Cancer Dataset')\n",
    "plt.show()\n",
    "\n",
    "\n"
   ]
  },
  {
   "cell_type": "markdown",
   "id": "60118af5-0ba1-47b9-b7e6-3e550bde1c97",
   "metadata": {},
   "source": [
    "### 2.4 What is the maximum variance explained by both the components in PCA and LDA. (10 Points)"
   ]
  },
  {
   "cell_type": "code",
   "execution_count": 82,
   "id": "f4622687-057e-42b3-972e-5d8cc419dfb4",
   "metadata": {},
   "outputs": [
    {
     "name": "stdout",
     "output_type": "stream",
     "text": [
      "PCA explained variance ratio: [0.98204467 0.01617649]\n",
      "Total variance explained by PCA: 0.9982211613741729\n",
      "LDA explained variance ratio: [1.]\n",
      "Total variance explained by LDA: 1.0\n"
     ]
    }
   ],
   "source": [
    "import numpy as np\n",
    "# Variance explained by PCA components\n",
    "pca_explained_variance = pca.explained_variance_ratio_\n",
    "print(\"PCA explained variance ratio:\", pca_explained_variance)\n",
    "print(\"Total variance explained by PCA:\", np.sum(pca_explained_variance))\n",
    "\n",
    "# Variance explained by LDA component\n",
    "lda_explained_variance = lda.explained_variance_ratio_\n",
    "print(\"LDA explained variance ratio:\", lda_explained_variance)\n",
    "print(\"Total variance explained by LDA:\", np.sum(lda_explained_variance))\n"
   ]
  },
  {
   "cell_type": "markdown",
   "id": "60fd7cb9-1257-4867-b8eb-98646b39aa3b",
   "metadata": {},
   "source": [
    "### 2.5 Comment on the working of PCA and LDA and which one is better for breast_cancer dataset. (5 Points)\n"
   ]
  },
  {
   "cell_type": "markdown",
   "id": "5315222b-8747-4a01-9706-ab1d61a007ec",
   "metadata": {},
   "source": [
    "Based on the variance explained and the nature of the breast cancer dataset, here are the points discussing the working of PCA and LDA and their suitability for the breast_cancer dataset:\n",
    "\n",
    "1. **Principal Component Analysis (PCA)**:\n",
    "   - **Working**: PCA aims to capture the maximum variance in the dataset by projecting it onto a lower-dimensional space defined by orthogonal components.\n",
    "   - **Variance Explained**: The PCA components explain 98.2% and 1.6% of the variance respectively, totaling to 99.8% of the variance explained by the two principal components chosen.\n",
    "   - **Suitability for Breast Cancer Dataset**: PCA is effective in reducing the dimensionality of the dataset while retaining most of the variance. It helps in visualizing the overall structure of the data but does not take into account class labels. This might limit its ability to maximize class separability in classification tasks.\n",
    "\n",
    "2. **Linear Discriminant Analysis (LDA)**:\n",
    "   - **Working**: LDA finds the linear combinations of features that best separate the classes in the dataset. It considers both the variance between classes and within classes.\n",
    "   - **Variance Explained**: LDA explains 100% of the variance, which means it perfectly separates the classes in the dataset into distinct groups.\n",
    "   - **Suitability for Breast Cancer Dataset**: LDA is highly suitable for the breast cancer dataset because it directly optimizes for class separability. By maximizing the between-class variance relative to the within-class variance, LDA can potentially enhance the classification performance by effectively distinguishing between malignant and benign tumors.\n",
    "\n",
    "**Conclusion**:\n",
    "- **LDA** is likely to be better suited for the breast cancer dataset compared to PCA. This is because LDA explicitly considers the class labels and aims to maximize the separation between different tumor types (malignant and benign). In contrast, PCA focuses more on capturing overall variance in the dataset without considering the specific class boundaries. Therefore, for tasks like diagnosing cancer based on tumor features, LDA's approach of maximizing class separability makes it the preferred choice over PCA."
   ]
  }
 ],
 "metadata": {
  "kernelspec": {
   "display_name": "Python 3 (ipykernel)",
   "language": "python",
   "name": "python3"
  },
  "language_info": {
   "codemirror_mode": {
    "name": "ipython",
    "version": 3
   },
   "file_extension": ".py",
   "mimetype": "text/x-python",
   "name": "python",
   "nbconvert_exporter": "python",
   "pygments_lexer": "ipython3",
   "version": "3.12.4"
  }
 },
 "nbformat": 4,
 "nbformat_minor": 5
}
